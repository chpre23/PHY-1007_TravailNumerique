{
 "cells": [
  {
   "cell_type": "code",
   "execution_count": null,
   "metadata": {},
   "outputs": [],
   "source": [
    "import numpy as np\n",
    "\n",
    "class LaplaceSolver:\n",
    "    def __init__(self, nx, ny, xmax, ymax, tolerance):\n",
    "        self.nx = nx    # number of grid points in the x direction\n",
    "        self.ny = ny    # number of grid points in the y direction\n",
    "        self.xmax = xmax    # maximum x value\n",
    "        self.ymax = ymax    # maximum y value\n",
    "        self.dx = xmax/(nx-1)    # grid spacing in the x direction\n",
    "        self.dy = ymax/(ny-1)    # grid spacing in the y direction\n",
    "        self.tolerance = tolerance    # tolerance for convergence\n",
    "        self.phi = np.zeros((nx,ny))    # initial guess for the potential\n",
    "\n",
    "    def update_phi(self):\n",
    "        for i in range(1,self.nx-1):\n",
    "            for j in range(1,self.ny-1):\n",
    "                self.phi[i,j] = (self.phi[i+1,j] + self.phi[i-1,j] + \n",
    "                                self.phi[i,j+1] + self.phi[i,j-1])/4\n",
    "            \n",
    "    def is_converged(self):\n",
    "        max_residual = np.max(np.abs(self.phi[1:-1,1:-1] - \n",
    "                                    (self.phi[2:,1:-1] + self.phi[:-2,1:-1] +\n",
    "                                    self.phi[1:-1,2:] + self.phi[1:-1,:-2])/4))\n",
    "        return max_residual < self.tolerance\n",
    "    \n",
    "    def solve(self):\n",
    "        while not self.is_converged():\n",
    "            self.update_phi()"
   ]
  },
  {
   "cell_type": "code",
   "execution_count": null,
   "metadata": {},
   "outputs": [],
   "source": [
    "\n",
    "from pde import CartesianGrid, solve_laplace_equation\n",
    " "
   ]
  }
 ],
 "metadata": {
  "kernelspec": {
   "display_name": "Python 3",
   "language": "python",
   "name": "python3"
  },
  "language_info": {
   "name": "python",
   "version": "3.10.11"
  },
  "orig_nbformat": 4
 },
 "nbformat": 4,
 "nbformat_minor": 2
}
